{
 "cells": [
  {
   "cell_type": "code",
   "execution_count": 3,
   "metadata": {},
   "outputs": [],
   "source": [
    "import ushertools\n",
    "import gzip"
   ]
  },
  {
   "cell_type": "code",
   "execution_count": 4,
   "metadata": {},
   "outputs": [
    {
     "name": "stdout",
     "output_type": "stream",
     "text": [
      "Reading condensed nodes dict |████████████████████████████████████████| 747877/747877 [100%] in 1.5s (483101.96/s) \n",
      "Loading tree, this may take a while...\n",
      "Annotating nuc muts |████████████████████████████████████████| 4195849/4195849 [100%] in 27.9s (150512.67/s) \n",
      "Expanding condensed nodes |████████████████████████████████████████| 2934545/2934545 [100%] in 18.2s (161409.08/s) \n",
      "Loaded initial tree with 6301887 tips\n",
      "Tree to use now has 6301887 tips\n",
      "Setting branch length |████████████████████████████████████████| 7563191/7563191 [100%] in 5.6s (1341366.70/s) \n"
     ]
    }
   ],
   "source": [
    "mat = ushertools.UsherMutationAnnotatedTree(gzip.open(\"/mnt/d/public-latest.all.masked.pb.gz\"))"
   ]
  },
  {
   "cell_type": "code",
   "execution_count": 5,
   "metadata": {},
   "outputs": [
    {
     "name": "stderr",
     "output_type": "stream",
     "text": [
      "7563191it [00:51, 147537.78it/s]\n"
     ]
    }
   ],
   "source": [
    "import tqdm, datetime\n",
    "def assign_final_genotypes(tree):\n",
    "    for node in tqdm.tqdm(tree.traverse_preorder()):\n",
    "        if node.parent:\n",
    "            positions = {x.one_indexed_position for x in node.nuc_mutations}\n",
    "            filtered_muts = [x for x in node.parent.nuc_mutations if x.one_indexed_position not in positions]\n",
    "            node.nuc_mutations = filtered_muts + node.nuc_mutations\n",
    "assign_final_genotypes(mat.tree)"
   ]
  },
  {
   "cell_type": "code",
   "execution_count": null,
   "metadata": {},
   "outputs": [],
   "source": []
  },
  {
   "cell_type": "code",
   "execution_count": 6,
   "metadata": {},
   "outputs": [
    {
     "name": "stderr",
     "output_type": "stream",
     "text": [
      "6301887it [00:32, 195750.12it/s]\n"
     ]
    }
   ],
   "source": [
    "\n",
    "from collections import defaultdict\n",
    "by_week = defaultdict(list)\n",
    "for node in tqdm.tqdm(mat.tree.traverse_leaves()):\n",
    "    components = node.label.split(\"|\")\n",
    "    if len(components) ==2:\n",
    "        name, date = components\n",
    "    elif len(components) == 3:\n",
    "        name, genbank, date = components\n",
    "    else:\n",
    "        raise ValueError(\"Unexpected label format: %s\" % node.label)\n",
    "    \n",
    "    # if date is not like yyyy-mm-dd, then skip\n",
    "    if len(date) != 10:\n",
    "        continue\n",
    "    \n",
    "    # check name starts with Eng, Wal, Scot\n",
    "    if not name.startswith(\"Eng\") and not name.startswith(\"Wal\") and not name.startswith(\"Scot\"):\n",
    "        continue\n",
    "\n",
    "    parsed_date = datetime.datetime.strptime(date, \"%Y-%m-%d\")\n",
    "    rounded_to_week = parsed_date - datetime.timedelta(days=parsed_date.weekday())\n",
    "    rounded_string = rounded_to_week.strftime(\"%Y-%m-%d\")\n",
    "    by_week[rounded_string].append(node)\n"
   ]
  },
  {
   "cell_type": "code",
   "execution_count": 7,
   "metadata": {},
   "outputs": [],
   "source": [
    "single_week = by_week[\"2022-06-27\"]"
   ]
  },
  {
   "cell_type": "code",
   "execution_count": 8,
   "metadata": {},
   "outputs": [
    {
     "data": {
      "text/plain": [
       "[NucMutation(one_indexed_position=14408, par_nuc='C', mut_nuc='T', ref_nuc='C', chromosome='chrom', type='nt'),\n",
       " NucMutation(one_indexed_position=241, par_nuc='C', mut_nuc='T', ref_nuc='C', chromosome='chrom', type='nt'),\n",
       " NucMutation(one_indexed_position=3037, par_nuc='C', mut_nuc='T', ref_nuc='C', chromosome='chrom', type='nt'),\n",
       " NucMutation(one_indexed_position=23403, par_nuc='A', mut_nuc='G', ref_nuc='A', chromosome='chrom', type='nt'),\n",
       " NucMutation(one_indexed_position=28881, par_nuc='G', mut_nuc='A', ref_nuc='G', chromosome='chrom', type='nt'),\n",
       " NucMutation(one_indexed_position=28882, par_nuc='G', mut_nuc='A', ref_nuc='G', chromosome='chrom', type='nt'),\n",
       " NucMutation(one_indexed_position=28883, par_nuc='G', mut_nuc='C', ref_nuc='G', chromosome='chrom', type='nt'),\n",
       " NucMutation(one_indexed_position=10029, par_nuc='C', mut_nuc='T', ref_nuc='C', chromosome='chrom', type='nt'),\n",
       " NucMutation(one_indexed_position=10449, par_nuc='C', mut_nuc='A', ref_nuc='C', chromosome='chrom', type='nt'),\n",
       " NucMutation(one_indexed_position=23055, par_nuc='A', mut_nuc='G', ref_nuc='A', chromosome='chrom', type='nt'),\n",
       " NucMutation(one_indexed_position=23063, par_nuc='A', mut_nuc='T', ref_nuc='A', chromosome='chrom', type='nt'),\n",
       " NucMutation(one_indexed_position=23075, par_nuc='T', mut_nuc='C', ref_nuc='T', chromosome='chrom', type='nt'),\n",
       " NucMutation(one_indexed_position=23525, par_nuc='C', mut_nuc='T', ref_nuc='C', chromosome='chrom', type='nt'),\n",
       " NucMutation(one_indexed_position=23599, par_nuc='T', mut_nuc='G', ref_nuc='T', chromosome='chrom', type='nt'),\n",
       " NucMutation(one_indexed_position=23604, par_nuc='C', mut_nuc='A', ref_nuc='C', chromosome='chrom', type='nt'),\n",
       " NucMutation(one_indexed_position=23854, par_nuc='C', mut_nuc='A', ref_nuc='C', chromosome='chrom', type='nt'),\n",
       " NucMutation(one_indexed_position=23948, par_nuc='G', mut_nuc='T', ref_nuc='G', chromosome='chrom', type='nt'),\n",
       " NucMutation(one_indexed_position=25000, par_nuc='C', mut_nuc='T', ref_nuc='C', chromosome='chrom', type='nt'),\n",
       " NucMutation(one_indexed_position=26270, par_nuc='C', mut_nuc='T', ref_nuc='C', chromosome='chrom', type='nt'),\n",
       " NucMutation(one_indexed_position=27259, par_nuc='A', mut_nuc='C', ref_nuc='A', chromosome='chrom', type='nt'),\n",
       " NucMutation(one_indexed_position=27807, par_nuc='C', mut_nuc='T', ref_nuc='C', chromosome='chrom', type='nt'),\n",
       " NucMutation(one_indexed_position=28271, par_nuc='A', mut_nuc='T', ref_nuc='A', chromosome='chrom', type='nt'),\n",
       " NucMutation(one_indexed_position=28311, par_nuc='C', mut_nuc='T', ref_nuc='C', chromosome='chrom', type='nt'),\n",
       " NucMutation(one_indexed_position=22578, par_nuc='G', mut_nuc='A', ref_nuc='G', chromosome='chrom', type='nt'),\n",
       " NucMutation(one_indexed_position=22674, par_nuc='C', mut_nuc='T', ref_nuc='C', chromosome='chrom', type='nt'),\n",
       " NucMutation(one_indexed_position=22679, par_nuc='T', mut_nuc='C', ref_nuc='T', chromosome='chrom', type='nt'),\n",
       " NucMutation(one_indexed_position=22686, par_nuc='C', mut_nuc='T', ref_nuc='C', chromosome='chrom', type='nt'),\n",
       " NucMutation(one_indexed_position=23040, par_nuc='A', mut_nuc='G', ref_nuc='A', chromosome='chrom', type='nt'),\n",
       " NucMutation(one_indexed_position=24424, par_nuc='A', mut_nuc='T', ref_nuc='A', chromosome='chrom', type='nt'),\n",
       " NucMutation(one_indexed_position=24469, par_nuc='T', mut_nuc='A', ref_nuc='T', chromosome='chrom', type='nt'),\n",
       " NucMutation(one_indexed_position=25584, par_nuc='C', mut_nuc='T', ref_nuc='C', chromosome='chrom', type='nt'),\n",
       " NucMutation(one_indexed_position=18163, par_nuc='A', mut_nuc='G', ref_nuc='A', chromosome='chrom', type='nt'),\n",
       " NucMutation(one_indexed_position=22992, par_nuc='G', mut_nuc='A', ref_nuc='G', chromosome='chrom', type='nt'),\n",
       " NucMutation(one_indexed_position=22995, par_nuc='C', mut_nuc='A', ref_nuc='C', chromosome='chrom', type='nt'),\n",
       " NucMutation(one_indexed_position=23013, par_nuc='A', mut_nuc='C', ref_nuc='A', chromosome='chrom', type='nt'),\n",
       " NucMutation(one_indexed_position=26577, par_nuc='C', mut_nuc='G', ref_nuc='C', chromosome='chrom', type='nt'),\n",
       " NucMutation(one_indexed_position=26709, par_nuc='G', mut_nuc='A', ref_nuc='G', chromosome='chrom', type='nt'),\n",
       " NucMutation(one_indexed_position=22882, par_nuc='T', mut_nuc='G', ref_nuc='T', chromosome='chrom', type='nt'),\n",
       " NucMutation(one_indexed_position=22813, par_nuc='G', mut_nuc='T', ref_nuc='G', chromosome='chrom', type='nt'),\n",
       " NucMutation(one_indexed_position=24130, par_nuc='A', mut_nuc='C', ref_nuc='C', chromosome='chrom', type='nt'),\n",
       " NucMutation(one_indexed_position=15240, par_nuc='T', mut_nuc='C', ref_nuc='C', chromosome='chrom', type='nt'),\n",
       " NucMutation(one_indexed_position=22673, par_nuc='C', mut_nuc='T', ref_nuc='T', chromosome='chrom', type='nt'),\n",
       " NucMutation(one_indexed_position=22775, par_nuc='G', mut_nuc='A', ref_nuc='G', chromosome='chrom', type='nt'),\n",
       " NucMutation(one_indexed_position=26530, par_nuc='G', mut_nuc='A', ref_nuc='A', chromosome='chrom', type='nt'),\n",
       " NucMutation(one_indexed_position=4184, par_nuc='G', mut_nuc='A', ref_nuc='G', chromosome='chrom', type='nt'),\n",
       " NucMutation(one_indexed_position=10447, par_nuc='G', mut_nuc='A', ref_nuc='G', chromosome='chrom', type='nt'),\n",
       " NucMutation(one_indexed_position=12880, par_nuc='C', mut_nuc='T', ref_nuc='C', chromosome='chrom', type='nt'),\n",
       " NucMutation(one_indexed_position=13195, par_nuc='C', mut_nuc='T', ref_nuc='T', chromosome='chrom', type='nt'),\n",
       " NucMutation(one_indexed_position=15714, par_nuc='C', mut_nuc='T', ref_nuc='C', chromosome='chrom', type='nt'),\n",
       " NucMutation(one_indexed_position=670, par_nuc='T', mut_nuc='G', ref_nuc='T', chromosome='chrom', type='nt'),\n",
       " NucMutation(one_indexed_position=4321, par_nuc='C', mut_nuc='T', ref_nuc='C', chromosome='chrom', type='nt'),\n",
       " NucMutation(one_indexed_position=9344, par_nuc='C', mut_nuc='T', ref_nuc='C', chromosome='chrom', type='nt'),\n",
       " NucMutation(one_indexed_position=9534, par_nuc='C', mut_nuc='T', ref_nuc='C', chromosome='chrom', type='nt'),\n",
       " NucMutation(one_indexed_position=9866, par_nuc='C', mut_nuc='T', ref_nuc='C', chromosome='chrom', type='nt'),\n",
       " NucMutation(one_indexed_position=10198, par_nuc='C', mut_nuc='T', ref_nuc='C', chromosome='chrom', type='nt'),\n",
       " NucMutation(one_indexed_position=17410, par_nuc='C', mut_nuc='T', ref_nuc='C', chromosome='chrom', type='nt'),\n",
       " NucMutation(one_indexed_position=19955, par_nuc='C', mut_nuc='T', ref_nuc='C', chromosome='chrom', type='nt'),\n",
       " NucMutation(one_indexed_position=20055, par_nuc='A', mut_nuc='G', ref_nuc='A', chromosome='chrom', type='nt'),\n",
       " NucMutation(one_indexed_position=21618, par_nuc='C', mut_nuc='T', ref_nuc='C', chromosome='chrom', type='nt'),\n",
       " NucMutation(one_indexed_position=21762, par_nuc='T', mut_nuc='C', ref_nuc='C', chromosome='chrom', type='nt'),\n",
       " NucMutation(one_indexed_position=21846, par_nuc='T', mut_nuc='C', ref_nuc='C', chromosome='chrom', type='nt'),\n",
       " NucMutation(one_indexed_position=22200, par_nuc='T', mut_nuc='G', ref_nuc='T', chromosome='chrom', type='nt'),\n",
       " NucMutation(one_indexed_position=22688, par_nuc='A', mut_nuc='G', ref_nuc='A', chromosome='chrom', type='nt'),\n",
       " NucMutation(one_indexed_position=22786, par_nuc='A', mut_nuc='C', ref_nuc='A', chromosome='chrom', type='nt'),\n",
       " NucMutation(one_indexed_position=26060, par_nuc='C', mut_nuc='T', ref_nuc='C', chromosome='chrom', type='nt'),\n",
       " NucMutation(one_indexed_position=26858, par_nuc='C', mut_nuc='T', ref_nuc='C', chromosome='chrom', type='nt'),\n",
       " NucMutation(one_indexed_position=27382, par_nuc='G', mut_nuc='C', ref_nuc='G', chromosome='chrom', type='nt'),\n",
       " NucMutation(one_indexed_position=27383, par_nuc='A', mut_nuc='T', ref_nuc='A', chromosome='chrom', type='nt'),\n",
       " NucMutation(one_indexed_position=27384, par_nuc='T', mut_nuc='C', ref_nuc='T', chromosome='chrom', type='nt'),\n",
       " NucMutation(one_indexed_position=29510, par_nuc='A', mut_nuc='C', ref_nuc='A', chromosome='chrom', type='nt'),\n",
       " NucMutation(one_indexed_position=9424, par_nuc='A', mut_nuc='G', ref_nuc='A', chromosome='chrom', type='nt'),\n",
       " NucMutation(one_indexed_position=2790, par_nuc='C', mut_nuc='T', ref_nuc='C', chromosome='chrom', type='nt'),\n",
       " NucMutation(one_indexed_position=25416, par_nuc='C', mut_nuc='T', ref_nuc='C', chromosome='chrom', type='nt'),\n",
       " NucMutation(one_indexed_position=583, par_nuc='C', mut_nuc='T', ref_nuc='C', chromosome='chrom', type='nt'),\n",
       " NucMutation(one_indexed_position=14925, par_nuc='C', mut_nuc='T', ref_nuc='C', chromosome='chrom', type='nt'),\n",
       " NucMutation(one_indexed_position=22599, par_nuc='G', mut_nuc='C', ref_nuc='G', chromosome='chrom', type='nt'),\n",
       " NucMutation(one_indexed_position=22916, par_nuc='C', mut_nuc='A', ref_nuc='C', chromosome='chrom', type='nt'),\n",
       " NucMutation(one_indexed_position=8841, par_nuc='C', mut_nuc='T', ref_nuc='C', chromosome='chrom', type='nt'),\n",
       " NucMutation(one_indexed_position=26110, par_nuc='C', mut_nuc='T', ref_nuc='C', chromosome='chrom', type='nt'),\n",
       " NucMutation(one_indexed_position=11887, par_nuc='A', mut_nuc='T', ref_nuc='A', chromosome='chrom', type='nt')]"
      ]
     },
     "execution_count": 8,
     "metadata": {},
     "output_type": "execute_result"
    }
   ],
   "source": [
    "single_week[0].nuc_mutations"
   ]
  },
  {
   "cell_type": "code",
   "execution_count": 13,
   "metadata": {},
   "outputs": [
    {
     "name": "stderr",
     "output_type": "stream",
     "text": [
      "100%|██████████| 140/140 [00:26<00:00,  5.36it/s]\n"
     ]
    }
   ],
   "source": [
    "from collections import Counter\n",
    "import math\n",
    "def calc_entropy(single_position, total):\n",
    "\n",
    "    ref = single_position[0].ref_nuc\n",
    "    filtered = [x for x in single_position if x.mut_nuc != ref]\n",
    "    counter = Counter([x.mut_nuc for x in filtered])\n",
    "    # add in the reference, which has value total - sum(counter.values())\n",
    "    ref_number= total - sum(counter.values())\n",
    "    if ref_number > 0:\n",
    "        counter[ref] = ref_number\n",
    "    # calculate entropy\n",
    "    entropy = 0\n",
    "    for nuc, count in counter.items():\n",
    "        p = count / total\n",
    "        entropy -= p * math.log(p)\n",
    "    return entropy\n",
    "\n",
    "\n",
    "def mean_entropy_for_week(single_week):\n",
    "    by_position = defaultdict(list)\n",
    "    total = len(single_week)\n",
    "    for node in single_week:\n",
    "        for mut in node.nuc_mutations:\n",
    "            by_position[mut.one_indexed_position].append(mut)\n",
    "    entropy_by_position = {p: calc_entropy(by_position[p], total= total) for p in by_position}\n",
    "    current_mean = sum(entropy_by_position.values()) / len(entropy_by_position)\n",
    "    number_of_constant_sites  = 30e3 - len(entropy_by_position)\n",
    "    entropy_for_constant_sites = 0\n",
    "    weighted_average = (current_mean * len(entropy_by_position) + entropy_for_constant_sites * number_of_constant_sites) / (len(entropy_by_position) + number_of_constant_sites)\n",
    "    return weighted_average\n",
    "\n",
    "week_to_entropy = {w: mean_entropy_for_week(single_week) for w, single_week in tqdm.tqdm(by_week.items())}\n"
   ]
  },
  {
   "cell_type": "code",
   "execution_count": 31,
   "metadata": {},
   "outputs": [
    {
     "data": {
      "image/png": "[encoded data removed]",
      "text/plain": [
       "<Figure size 640x480 with 1 Axes>"
      ]
     },
     "metadata": {},
     "output_type": "display_data"
    },
    {
     "data": {
      "text/plain": [
       "<ggplot: (8789178361423)>"
      ]
     },
     "execution_count": 31,
     "metadata": {},
     "output_type": "execute_result"
    }
   ],
   "source": [
    "\n",
    "sorted_weeks = sorted(week_to_entropy.keys())\n",
    "sorted_entropies = [week_to_entropy[w] for w in sorted_weeks]\n",
    "from plotnine import *\n",
    "import pandas as pd\n",
    "df = pd.DataFrame({\"week\": sorted_weeks, \"entropy\": sorted_entropies})\n",
    "# remove final week\n",
    "df = df[df.week != df.week.max()]\n",
    "# convert week to datetime\n",
    "df[\"week\"] = pd.to_datetime(df[\"week\"])\n",
    "\n",
    "(ggplot(df, aes(x=\"week\", y=\"entropy\")) + geom_line(color=\"#3242d1\") + theme_bw() + theme(axis_text_x=element_text(angle=90, hjust=0.5)) + labs(x=\"Week\", y=\"Mean nucleotide entropy\",title=\"Mean nucleotide entropy per week in UK SARS-CoV-2 genomes\"))\n"
   ]
  },
  {
   "cell_type": "code",
   "execution_count": null,
   "metadata": {},
   "outputs": [],
   "source": [
    "# calculate the entropy of a fair coin  "
   ]
  },
  {
   "cell_type": "code",
   "execution_count": 32,
   "metadata": {},
   "outputs": [
    {
     "data": {
      "text/plain": [
       "1.7917594692280547"
      ]
     },
     "execution_count": 32,
     "metadata": {},
     "output_type": "execute_result"
    }
   ],
   "source": [
    "# calculate the entropy of a fair 6-sided die\n",
    "import math\n",
    "def calc_entropy_die():\n",
    "    total = 6\n",
    "    counter = Counter([1,2,3,4,5,6])\n",
    "    # calculate entropy\n",
    "    entropy = 0\n",
    "    for nuc, count in counter.items():\n",
    "        p = count / total\n",
    "        entropy -= p * math.log(p)\n",
    "    return entropy\n",
    "calc_entropy_die()"
   ]
  }
 ],
 "metadata": {
  "kernelspec": {
   "display_name": "Python 3.8.6 ('nextstrain')",
   "language": "python",
   "name": "python3"
  },
  "language_info": {
   "codemirror_mode": {
    "name": "ipython",
    "version": 3
   },
   "file_extension": ".py",
   "mimetype": "text/x-python",
   "name": "python",
   "nbconvert_exporter": "python",
   "pygments_lexer": "ipython3",
   "version": "3.8.6"
  },
  "orig_nbformat": 4,
  "vscode": {
   "interpreter": {
    "hash": "ed9fb68640e5f6c1e5873b4a3f2f87a61c72f5f8fbb68d62d1f9c0014e667be1"
   }
  }
 },
 "nbformat": 4,
 "nbformat_minor": 2
}
